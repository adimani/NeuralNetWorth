{
 "cells": [
  {
   "cell_type": "code",
   "execution_count": 10,
   "metadata": {},
   "outputs": [],
   "source": [
    "import pandas as pd\n",
    "import numpy as np\n",
    "import matplotlib.pyplot as plt\n",
    "import seaborn as sns"
   ]
  },
  {
   "cell_type": "code",
   "execution_count": 11,
   "metadata": {},
   "outputs": [
    {
     "name": "stdout",
     "output_type": "stream",
     "text": [
      "PEG_trailing      40.189216\n",
      "divyield          35.987871\n",
      "sale_nwc          29.142794\n",
      "PEG_ltgforward    28.743191\n",
      "pe_op_dil         27.075091\n",
      "                    ...    \n",
      "adate              0.526629\n",
      "qdate              0.338736\n",
      "TICKER             0.308303\n",
      "cusip              0.230235\n",
      "rd_sale            0.162091\n",
      "Length: 75, dtype: float64\n"
     ]
    }
   ],
   "source": [
    "# Read in CRSP data\n",
    "crsp = pd.read_csv('crsp.csv')\n",
    "# Read in Compustat data\n",
    "compustat = pd.read_csv('compustat.csv')\n",
    "# crsp.info()\n",
    "# Obtain percentage of missing values for each column\n",
    "missing = compustat.isnull().mean() * 100\n",
    "missing = missing[missing > 0]\n",
    "missing = missing.sort_values(ascending=False)\n",
    "print(missing)"
   ]
  },
  {
   "cell_type": "code",
   "execution_count": 9,
   "metadata": {},
   "outputs": [
    {
     "name": "stdout",
     "output_type": "stream",
     "text": [
      "1980-06-30 2025-04-30\n",
      "1980-01-31 2024-12-31\n"
     ]
    }
   ],
   "source": [
    "# print date range \n",
    "print(crsp['datadate'].min(), crsp['datadate'].max())\n",
    "print (compustat['public_date'].min(), compustat['public_date'].max())"
   ]
  },
  {
   "cell_type": "code",
   "execution_count": null,
   "metadata": {},
   "outputs": [],
   "source": []
  }
 ],
 "metadata": {
  "kernelspec": {
   "display_name": "3.10.16",
   "language": "python",
   "name": "python3"
  },
  "language_info": {
   "codemirror_mode": {
    "name": "ipython",
    "version": 3
   },
   "file_extension": ".py",
   "mimetype": "text/x-python",
   "name": "python",
   "nbconvert_exporter": "python",
   "pygments_lexer": "ipython3",
   "version": "3.10.16"
  }
 },
 "nbformat": 4,
 "nbformat_minor": 2
}
